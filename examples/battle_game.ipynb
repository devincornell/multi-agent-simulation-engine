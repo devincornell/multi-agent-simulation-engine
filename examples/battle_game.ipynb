{
 "cells": [
  {
   "cell_type": "code",
   "execution_count": 1,
   "metadata": {},
   "outputs": [],
   "source": [
    "import sys\n",
    "sys.path.append('../src')\n",
    "\n",
    "import mase"
   ]
  },
  {
   "cell_type": "code",
   "execution_count": 2,
   "metadata": {},
   "outputs": [
    {
     "data": {
      "text/plain": [
       "[HexPos(q=0, r=0, s=0),\n",
       " HexPos(q=1, r=0, s=-1),\n",
       " HexPos(q=2, r=0, s=-2),\n",
       " HexPos(q=3, r=0, s=-3),\n",
       " HexPos(q=3, r=1, s=-4),\n",
       " HexPos(q=4, r=1, s=-5),\n",
       " HexPos(q=4, r=2, s=-6),\n",
       " HexPos(q=5, r=2, s=-7),\n",
       " HexPos(q=6, r=2, s=-8),\n",
       " HexPos(q=6, r=3, s=-9),\n",
       " HexPos(q=6, r=4, s=-10),\n",
       " HexPos(q=7, r=4, s=-11),\n",
       " HexPos(q=8, r=4, s=-12),\n",
       " HexPos(q=9, r=4, s=-13),\n",
       " HexPos(q=10, r=4, s=-14)]"
      ]
     },
     "execution_count": 2,
     "metadata": {},
     "output_type": "execute_result"
    }
   ],
   "source": [
    "mase.HexPos.from_origin().a_star(mase.HexPos(10, 4, -14))"
   ]
  },
  {
   "cell_type": "code",
   "execution_count": null,
   "metadata": {},
   "outputs": [],
   "source": []
  },
  {
   "cell_type": "code",
   "execution_count": null,
   "metadata": {},
   "outputs": [],
   "source": []
  },
  {
   "cell_type": "code",
   "execution_count": null,
   "metadata": {},
   "outputs": [],
   "source": []
  }
 ],
 "metadata": {
  "kernelspec": {
   "display_name": "base",
   "language": "python",
   "name": "python3"
  },
  "language_info": {
   "codemirror_mode": {
    "name": "ipython",
    "version": 3
   },
   "file_extension": ".py",
   "mimetype": "text/x-python",
   "name": "python",
   "nbconvert_exporter": "python",
   "pygments_lexer": "ipython3",
   "version": "3.11.5"
  }
 },
 "nbformat": 4,
 "nbformat_minor": 2
}
